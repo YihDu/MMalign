{
 "cells": [
  {
   "cell_type": "code",
   "execution_count": 1,
   "id": "e1c33002",
   "metadata": {},
   "outputs": [
    {
     "name": "stdout",
     "output_type": "stream",
     "text": [
      "/tmp/root/miniforge3/envs/llava15/bin/python\n"
     ]
    }
   ],
   "source": [
    "import sys\n",
    "print(sys.executable)"
   ]
  },
  {
   "cell_type": "code",
   "execution_count": 2,
   "id": "c19b29d3",
   "metadata": {},
   "outputs": [
    {
     "name": "stdout",
     "output_type": "stream",
     "text": [
      "2.1.2+cu121\n"
     ]
    }
   ],
   "source": [
    "import torch\n",
    "\n",
    "print(torch.__version__)"
   ]
  },
  {
   "cell_type": "code",
   "execution_count": 3,
   "id": "4c1c5c6d",
   "metadata": {},
   "outputs": [
    {
     "name": "stdout",
     "output_type": "stream",
     "text": [
      "True\n"
     ]
    }
   ],
   "source": [
    "print(torch.cuda.is_available())"
   ]
  },
  {
   "cell_type": "code",
   "execution_count": 4,
   "id": "3084566d",
   "metadata": {},
   "outputs": [
    {
     "name": "stdout",
     "output_type": "stream",
     "text": [
      "[2025-10-27 05:53:51,002] [INFO] [real_accelerator.py:161:get_accelerator] Setting ds_accelerator to cuda (auto detect)\n"
     ]
    }
   ],
   "source": [
    "import deepspeed"
   ]
  },
  {
   "cell_type": "code",
   "execution_count": 5,
   "id": "1b810441",
   "metadata": {},
   "outputs": [
    {
     "name": "stdout",
     "output_type": "stream",
     "text": [
      "torch: 2.1.2+cu121 | cuda: 12.1 | GPU: True\n",
      "deepspeed: 0.12.6\n",
      "transformers: 4.37.2\n",
      "numpy: 1.26.4\n"
     ]
    }
   ],
   "source": [
    "import torch, deepspeed, transformers, numpy\n",
    "print(\"torch:\", torch.__version__, \"| cuda:\", torch.version.cuda, \"| GPU:\", torch.cuda.is_available())\n",
    "print(\"deepspeed:\", deepspeed.__version__)\n",
    "print(\"transformers:\", transformers.__version__)\n",
    "print(\"numpy:\", numpy.__version__)\n"
   ]
  },
  {
   "cell_type": "code",
   "execution_count": 6,
   "id": "3a03dbd9",
   "metadata": {},
   "outputs": [
    {
     "name": "stdout",
     "output_type": "stream",
     "text": [
      "PyTorch 版本: 2.1.2+cu121\n",
      "CUDA 是否可用: True\n",
      "CUDA 版本: 12.1\n",
      "当前GPU: NVIDIA H200\n"
     ]
    }
   ],
   "source": [
    "import torch\n",
    "\n",
    "print(\"PyTorch 版本:\", torch.__version__)\n",
    "print(\"CUDA 是否可用:\", torch.cuda.is_available())\n",
    "if torch.cuda.is_available():\n",
    "    print(\"CUDA 版本:\", torch.version.cuda)\n",
    "    print(\"当前GPU:\", torch.cuda.get_device_name(torch.cuda.current_device()))"
   ]
  },
  {
   "cell_type": "code",
   "execution_count": 7,
   "id": "ccb523ac",
   "metadata": {},
   "outputs": [
    {
     "name": "stdout",
     "output_type": "stream",
     "text": [
      "True\n",
      "0\n",
      "12.1\n"
     ]
    }
   ],
   "source": [
    "import torch\n",
    "print(torch.cuda.is_available())  # 应该返回 True\n",
    "print(torch.cuda.current_device())  # 输出当前 GPU ID\n",
    "print(torch.version.cuda)  # 确保 PyTorch 与 CUDA 版本一致\n"
   ]
  },
  {
   "cell_type": "markdown",
   "id": "de8606cc",
   "metadata": {},
   "source": []
  }
 ],
 "metadata": {
  "kernelspec": {
   "display_name": "LLaVA15",
   "language": "python",
   "name": "llava15"
  },
  "language_info": {
   "codemirror_mode": {
    "name": "ipython",
    "version": 3
   },
   "file_extension": ".py",
   "mimetype": "text/x-python",
   "name": "python",
   "nbconvert_exporter": "python",
   "pygments_lexer": "ipython3",
   "version": "3.10.19"
  }
 },
 "nbformat": 4,
 "nbformat_minor": 5
}
