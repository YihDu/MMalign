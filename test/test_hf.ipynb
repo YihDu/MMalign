{
 "cells": [
  {
   "cell_type": "code",
   "execution_count": 1,
   "id": "5961d8d1",
   "metadata": {},
   "outputs": [
    {
     "name": "stdout",
     "output_type": "stream",
     "text": [
      "None\n"
     ]
    }
   ],
   "source": [
    "import os\n",
    "\n",
    "\n",
    "\n",
    "# 检查环境变量是否设置成功\n",
    "print(os.getenv('HF_ENDPOINT'))"
   ]
  }
 ],
 "metadata": {
  "kernelspec": {
   "display_name": "Python(LLaVA_new)",
   "language": "python",
   "name": "llava_new"
  },
  "language_info": {
   "codemirror_mode": {
    "name": "ipython",
    "version": 3
   },
   "file_extension": ".py",
   "mimetype": "text/x-python",
   "name": "python",
   "nbconvert_exporter": "python",
   "pygments_lexer": "ipython3",
   "version": "3.10.19"
  }
 },
 "nbformat": 4,
 "nbformat_minor": 5
}
